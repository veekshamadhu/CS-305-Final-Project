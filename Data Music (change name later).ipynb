{
 "cells": [
  {
   "cell_type": "code",
   "execution_count": 8,
   "metadata": {},
   "outputs": [
    {
     "name": "stdout",
     "output_type": "stream",
     "text": [
      "['31.0', '0.0127', '0.622', '218293.0', '0.89', '0.95', 2, '0.124', '-7.042999999999999', 0, '0.03', '115.00200000000001', '0.531', 0]\n"
     ]
    }
   ],
   "source": [
    "import numpy as np\n",
    "from sklearn.model_selection import train_test_split\n",
    "from sklearn import preprocessing\n",
    "np.random.seed(42)\n",
    "import numpy as np\n",
    "from sklearn.feature_extraction.text import TfidfVectorizer\n",
    "\n",
    "\n",
    "\n",
    "from csv import reader\n",
    "\n",
    "\n",
    "with open('cs305fp_music_genre.csv', 'r') as read_obj:\n",
    "    csv_reader = reader(read_obj)\n",
    "    count = 0\n",
    "    data = []\n",
    "    titles = []\n",
    "    artists = []\n",
    "    instance_id = []\n",
    "    genres = []\n",
    "    musicKeys = ['C','C#','D','D#','E','F','F#','G','G#','A','A#','B']\n",
    "    \n",
    "    for row in csv_reader:\n",
    "        if count == 0:\n",
    "            columns = row\n",
    "        else:\n",
    "            instance_id.append(row[0])\n",
    "            artists.append(row[1])\n",
    "            titles.append(row[2])\n",
    "            \n",
    "            #music key (9 in list)\n",
    "            if row[9] in musicKeys:\n",
    "                row[9] = musicKeys.index(row[9])\n",
    "            \n",
    "            #mode (12 in list)\n",
    "            if row[12] == 'Major':\n",
    "                row[12] = 1\n",
    "            elif row[12] == 'Minor':\n",
    "                row[12] = 0\n",
    "            \n",
    "            \n",
    "            #tempo (14 in list) \n",
    "            if row[14] == \"?\":\n",
    "                row[14] = ''\n",
    "            \n",
    "            #music_genre (17 in list)\n",
    "            if row[17] in genres:\n",
    "                row[17] = genres.index(row[17])\n",
    "            else:\n",
    "                genres.append(row[17])\n",
    "                row[17] = genres.index(row[17])\n",
    "            \n",
    "            #make sure to not include list items 0-2 and item 15 in list\n",
    "            new = row[3:15]+row[16:]\n",
    "            data.append(new)\n",
    "            \n",
    "        count = count + 1\n",
    "print(data[1])\n",
    "\n",
    "data = np.array(data)\n",
    "        \n",
    "        \n",
    "            "
   ]
  },
  {
   "cell_type": "code",
   "execution_count": null,
   "metadata": {},
   "outputs": [],
   "source": []
  }
 ],
 "metadata": {
  "kernelspec": {
   "display_name": "Python 3",
   "language": "python",
   "name": "python3"
  },
  "language_info": {
   "codemirror_mode": {
    "name": "ipython",
    "version": 3
   },
   "file_extension": ".py",
   "mimetype": "text/x-python",
   "name": "python",
   "nbconvert_exporter": "python",
   "pygments_lexer": "ipython3",
   "version": "3.8.5"
  }
 },
 "nbformat": 4,
 "nbformat_minor": 5
}
