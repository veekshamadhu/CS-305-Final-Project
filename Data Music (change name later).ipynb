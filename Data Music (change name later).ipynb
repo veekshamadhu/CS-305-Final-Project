{
 "cells": [
  {
   "cell_type": "code",
   "execution_count": 2,
   "metadata": {},
   "outputs": [
    {
     "name": "stdout",
     "output_type": "stream",
     "text": [
      "['29.0', '0.00857', '0.643', '234874.0', '0.966', '0.00331', 10, '0.255', '-3.902', 0, '0.0442', '131.982', '0.912', 1]\n"
     ]
    },
    {
     "data": {
      "text/plain": [
       "(40549, 14)"
      ]
     },
     "execution_count": 2,
     "metadata": {},
     "output_type": "execute_result"
    }
   ],
   "source": [
    "import numpy as np\n",
    "from sklearn.model_selection import train_test_split\n",
    "from sklearn import preprocessing\n",
    "np.random.seed(42)\n",
    "import numpy as np\n",
    "from sklearn.feature_extraction.text import TfidfVectorizer\n",
    "\n",
    "\n",
    "\n",
    "from csv import reader\n",
    "\n",
    "\n",
    "with open('cs305fp_music_genre.csv', 'r') as read_obj:\n",
    "    csv_reader = reader(read_obj)\n",
    "    count = 0\n",
    "    data = []\n",
    "    titles = []\n",
    "    artists = []\n",
    "    instance_id = []\n",
    "    genres = []\n",
    "    musicKeys = ['C','C#','D','D#','E','F','F#','G','G#','A','A#','B']\n",
    "    \n",
    "    for row in csv_reader:\n",
    "        if count == 0:\n",
    "            columns = row\n",
    "        else:\n",
    "            instance_id.append(row[0])\n",
    "            artists.append(row[1])\n",
    "            titles.append(row[2])\n",
    "            \n",
    "            #music key (9 in list)\n",
    "            if row[9] in musicKeys:\n",
    "                row[9] = musicKeys.index(row[9])\n",
    "            \n",
    "            #mode (12 in list)\n",
    "            if row[12] == 'Major':\n",
    "                row[12] = 1\n",
    "            elif row[12] == 'Minor':\n",
    "                row[12] = 0\n",
    "            \n",
    "            \n",
    "            #tempo (14 in list) \n",
    "            if row[14] == \"?\":\n",
    "                row[14] = ''\n",
    "            \n",
    "            #music_genre (17 in list)\n",
    "            if row[17] in genres and row[17] != 0:\n",
    "                row[17] = genres.index(row[17])\n",
    "            else:\n",
    "                genres.append(row[17])\n",
    "                row[17] = genres.index(row[17])\n",
    "            \n",
    "            #make sure to not include list items 0-2 and item 15 in list\n",
    "            new = row[3:15]+row[16:]\n",
    "            if row[17] != 0 and row[6] != '-1.0':\n",
    "                data.append(new)\n",
    "            \n",
    "            \n",
    "            \n",
    "        count = count + 1\n",
    "print(data[1])\n",
    "for count,row in enumerate(data):\n",
    "    for count2,c in enumerate(row):\n",
    "        if data[count][count2] != '':\n",
    "            data[count][count2] = float(data[count][count2])\n",
    "        else:\n",
    "            data[count][count2] = 0\n",
    "data = np.array(data)\n",
    "        \n",
    "np.shape(data)\n",
    "            "
   ]
  },
  {
   "cell_type": "code",
   "execution_count": 3,
   "metadata": {},
   "outputs": [],
   "source": [
    "import pandas as pd\n",
    "\n",
    "df = pd.DataFrame(data)"
   ]
  },
  {
   "cell_type": "code",
   "execution_count": 4,
   "metadata": {},
   "outputs": [],
   "source": [
    "dur = df.iloc[:,6]\n",
    "for i in range(len(dur)):\n",
    "    if dur[i] < 0.0:\n",
    "        dur[i] = 0.00\n",
    "        \n",
    "#finding the average of the duration of the songs (in milliseconds)\n",
    "avg = np.sum(dur) / len(dur)\n",
    "avg\n",
    "\n",
    "#replacing all 0.0 values\n",
    "for i in range(len(dur)):\n",
    "    if dur[i] == 0.0:\n",
    "        dur[i] = avg\n",
    "        \n",
    "df.iloc[:,6] = dur\n",
    "df=df.fillna(0)"
   ]
  },
  {
   "cell_type": "code",
   "execution_count": 5,
   "metadata": {},
   "outputs": [
    {
     "name": "stdout",
     "output_type": "stream",
     "text": [
      "Forest\n",
      "0.564118372379778\n",
      "kNN\n",
      "0.48865598027127005\n"
     ]
    }
   ],
   "source": [
    "from sklearn.model_selection import train_test_split\n",
    "import numpy as np\n",
    "from sklearn import linear_model  # Using sklearn Perceptron classifier\n",
    "from sklearn import tree  # Using Tree classifier\n",
    "from sklearn import neighbors  # Using nearest neighbors classifier\n",
    "from sklearn.linear_model import LogisticRegression\n",
    "from sklearn.metrics import classification_report\n",
    "import sklearn.svm as svm\n",
    "from sklearn.preprocessing import StandardScaler\n",
    "\n",
    "from sklearn import ensemble\n",
    "\n",
    "\n",
    "\n",
    "learners = {#'Perceptron': linear_model.Perceptron(max_iter=10),\n",
    "            'Forest': ensemble.RandomForestClassifier(),\n",
    "            'kNN': neighbors.KNeighborsClassifier(),\n",
    "            #'Logistic': LogisticRegression(),\n",
    "            #'SVM': svm.SVC()\n",
    "           }\n",
    "\n",
    "    \n",
    "DATA = np.array(df)\n",
    "X = DATA[:,:-1]\n",
    "y = DATA[:,-1]\n",
    "X_train, X_test, y_train, y_test = train_test_split(X, y, test_size=0.20)\n",
    "    \n",
    "scaler = StandardScaler()\n",
    "scaler.fit(X_train)\n",
    "X_train = scaler.transform(X_train)\n",
    "X_test = scaler.transform(X_test)\n",
    "for classM in learners:\n",
    "    print(classM)\n",
    "    learners[classM].fit(X_train,y_train)\n",
    "    print(learners[classM].score(X_test,y_test))\n",
    "\n",
    "\n"
   ]
  },
  {
   "cell_type": "code",
   "execution_count": 23,
   "metadata": {},
   "outputs": [],
   "source": [
    "#Cleaning Data\n",
    "DATA = np.array(df)\n",
    "X = DATA[:,:-1]\n",
    "y = DATA[:,-1]\n",
    "X_train, X_test, y_train, y_test = train_test_split(X, y, test_size=0.20)\n",
    "    \n",
    "scaler = StandardScaler()\n",
    "scaler.fit(X_train)\n",
    "X_train = scaler.transform(X_train)\n",
    "X_test = scaler.transform(X_test)"
   ]
  },
  {
   "cell_type": "code",
   "execution_count": 26,
   "metadata": {},
   "outputs": [
    {
     "name": "stdout",
     "output_type": "stream",
     "text": [
      "[ 1.  1.  1. ... 10. 10. 10.]\n",
      "Logistic\n",
      "[[-9.53517037e-02 -3.94896523e-04 -5.54296680e-04  2.57379757e-08\n",
      "   1.99312387e-04  3.35800737e-04 -2.16888569e-03 -6.17938795e-05\n",
      "   1.10975537e-02 -3.85619059e-04 -1.61735092e-04  1.27344476e-02\n",
      "  -3.10940830e-04]]\n",
      "0.8916152897657214\n",
      "SVM\n",
      "0.8905055487053021\n",
      "Logistic\n",
      "[[-7.52266252e-07  1.95211468e-07  1.48385956e-07 -2.11485376e-03\n",
      "  -1.09352178e-07 -1.02164021e-08  1.34817396e-05  3.85116001e-08\n",
      "  -4.37083347e-06 -2.68966534e-07 -1.08599075e-07  3.28960589e-05\n",
      "   1.55128589e-08]]\n",
      "1.0\n",
      "SVM\n",
      "0.9998766954377312\n",
      "Logistic\n",
      "[[-2.93580294e-02  2.20235947e-04 -1.90096491e-04 -1.69272452e-07\n",
      "  -5.31103945e-04  3.89103026e-04 -2.27879223e-03 -1.41603412e-04\n",
      "   8.07980325e-04 -6.59795730e-04 -9.83506458e-05 -6.76666994e-03\n",
      "  -1.16247980e-04]]\n",
      "0.8929716399506782\n",
      "SVM\n",
      "0.8929716399506782\n",
      "Logistic\n",
      "[[-7.72921580e-04 -7.55773462e-05 -3.98075807e-05 -6.06597778e-06\n",
      "   1.22712071e-05 -4.37986259e-05 -3.18842962e-04 -7.34572141e-06\n",
      "   1.52151126e-03 -4.45894419e-05 -8.82247387e-06 -5.27092720e-03\n",
      "  -3.73247391e-05]]\n",
      "0.8849568434032059\n",
      "SVM\n",
      "0.8849568434032059\n",
      "Logistic\n",
      "[[-1.22374853e-03 -3.85261719e-05 -1.64305830e-05 -7.38912926e-06\n",
      "   1.63710903e-06 -7.20911657e-05 -2.16985683e-04 -8.84072986e-06\n",
      "   1.24559062e-03  6.36486559e-05 -2.42200735e-05 -2.82840892e-03\n",
      "   4.74302242e-06]]\n",
      "0.8887792848335389\n",
      "SVM\n",
      "0.8887792848335389\n",
      "Logistic\n",
      "[[ 4.79346942e-02 -8.57505238e-04  3.39587573e-04 -1.53360244e-05\n",
      "   9.38079544e-05 -7.31079400e-04 -2.64757535e-03 -3.10253582e-05\n",
      "   1.59609141e-02 -6.96565638e-04  3.41803583e-04 -8.38724557e-03\n",
      "  -2.96868278e-04]]\n",
      "0.8861898890258939\n",
      "SVM\n",
      "0.8911220715166461\n",
      "Logistic\n",
      "[[-8.19673349e-03 -3.86681539e-05 -6.74550908e-05 -2.44746866e-06\n",
      "  -4.47213815e-05 -4.10553486e-05 -5.20220481e-04 -2.74621127e-06\n",
      "   1.06372759e-03 -4.13112756e-05 -2.28963781e-05 -9.96830743e-03\n",
      "  -7.51719101e-06]]\n",
      "0.891245376078915\n",
      "SVM\n",
      "0.891245376078915\n",
      "Logistic\n",
      "[[ 3.23657280e-02 -8.11800578e-03 -7.72557008e-03 -6.50393359e-06\n",
      "  -1.10770055e-03 -4.58050919e-03 -5.26601702e-02 -1.89072007e-03\n",
      "   1.52178410e-01 -1.59845301e-03 -3.58180958e-03 -5.88710899e-03\n",
      "  -2.69056576e-03]]\n",
      "0.8860665844636252\n",
      "SVM\n",
      "0.8884093711467325\n",
      "Logistic\n",
      "[[-9.38775298e-02  8.87679283e-03 -4.54765397e-03  1.01003673e-06\n",
      "  -7.74767513e-03  6.79932831e-03 -1.04490677e-02 -1.08892406e-03\n",
      "  -2.02183405e-01 -4.39545232e-04 -5.82478198e-04 -1.35811182e-02\n",
      "  -4.99780001e-03]]\n",
      "0.9345252774352651\n",
      "SVM\n",
      "0.8866831072749691\n",
      "Logistic\n",
      "[[ 3.75516645e-02 -7.71163167e-04  4.11755971e-04 -1.31218528e-05\n",
      "   6.17852061e-05 -7.03078073e-04 -2.82006991e-03 -2.72386361e-05\n",
      "   1.46392222e-02 -6.85156551e-04  4.20473807e-04 -7.52202438e-03\n",
      "  -1.81952166e-04]]\n",
      "0.8898890258939581\n",
      "SVM\n",
      "0.8926017262638718\n"
     ]
    }
   ],
   "source": [
    "tempy = [0 for i in range(len(y))]\n",
    "\n",
    "learners = {\n",
    "            'Logistic': LogisticRegression(),\n",
    "            'SVM': svm.SVC()\n",
    "           }\n",
    "print(y)\n",
    "count = 0\n",
    "for count in range(10):\n",
    "    count = count + 1\n",
    "    for c,i in enumerate(y):\n",
    "        if i != float(count):\n",
    "            tempy[c] = 0.0\n",
    "        else: \n",
    "            tempy[c] = 1.0\n",
    "    X_train, X_test, y_train, y_test = train_test_split(X, tempy, test_size=0.20)\n",
    "    for classM in learners:\n",
    "        print(classM)\n",
    "        learners[classM].fit(X_train,y_train)\n",
    "        if classM == 'Logistic':\n",
    "            print(learners[classM].coef_)\n",
    "        print(learners[classM].score(X_test,y_test))\n",
    "\n",
    "    \n",
    "    "
   ]
  },
  {
   "cell_type": "code",
   "execution_count": 15,
   "metadata": {},
   "outputs": [
    {
     "name": "stdout",
     "output_type": "stream",
     "text": [
      "Test Set Accuracy : 0.8940813810110975 %\n",
      "\n",
      "\n",
      "Classification Report : \n",
      "\n",
      "              precision    recall  f1-score   support\n",
      "\n",
      "         0.0       0.89      1.00      0.94      7251\n",
      "         1.0       0.00      0.00      0.00       859\n",
      "\n",
      "    accuracy                           0.89      8110\n",
      "   macro avg       0.45      0.50      0.47      8110\n",
      "weighted avg       0.80      0.89      0.84      8110\n",
      "\n",
      "Parameters : \n",
      "{'estimator__C': 1.0, 'estimator__break_ties': False, 'estimator__cache_size': 200, 'estimator__class_weight': None, 'estimator__coef0': 0.0, 'estimator__decision_function_shape': 'ovr', 'estimator__degree': 3, 'estimator__gamma': 'scale', 'estimator__kernel': 'rbf', 'estimator__max_iter': -1, 'estimator__probability': False, 'estimator__random_state': None, 'estimator__shrinking': True, 'estimator__tol': 0.001, 'estimator__verbose': False, 'estimator': SVC(), 'n_jobs': None}\n"
     ]
    },
    {
     "name": "stderr",
     "output_type": "stream",
     "text": [
      "/opt/anaconda3/lib/python3.8/site-packages/sklearn/metrics/_classification.py:1221: UndefinedMetricWarning: Precision and F-score are ill-defined and being set to 0.0 in labels with no predicted samples. Use `zero_division` parameter to control this behavior.\n",
      "  _warn_prf(average, modifier, msg_start, len(result))\n"
     ]
    }
   ],
   "source": [
    "from sklearn.multiclass import OneVsRestClassifier\n",
    "from sklearn.svm import SVC\n",
    "from sklearn.metrics import accuracy_score, classification_report\n",
    "   \n",
    "# Creating the SVM model\n",
    "model = OneVsRestClassifier(SVC())\n",
    "   \n",
    "# Fitting the model with training data\n",
    "model.fit(X_train, y_train)\n",
    "   \n",
    "# Making a prediction on the test set\n",
    "prediction = model.predict(X_test)\n",
    "   \n",
    "# Evaluating the model\n",
    "print(f\"Test Set Accuracy : {accuracy_score(y_test, prediction)} %\\n\\n\")\n",
    "print(f\"Classification Report : \\n\\n{classification_report(y_test, prediction)}\")\n",
    "print(f\"Parameters : \\n{model.get_params()}\")"
   ]
  },
  {
   "cell_type": "code",
   "execution_count": 17,
   "metadata": {},
   "outputs": [
    {
     "name": "stdout",
     "output_type": "stream",
     "text": [
      "Test Set Accuracy : 0.8907521578298397 %\n",
      "\n",
      "\n",
      "Classification Report : \n",
      "\n",
      "              precision    recall  f1-score   support\n",
      "\n",
      "         0.0       0.90      0.99      0.94      7251\n",
      "         1.0       0.28      0.02      0.04       859\n",
      "\n",
      "    accuracy                           0.89      8110\n",
      "   macro avg       0.59      0.51      0.49      8110\n",
      "weighted avg       0.83      0.89      0.85      8110\n",
      "\n",
      "{'estimator__C': 1.0, 'estimator__class_weight': None, 'estimator__dual': False, 'estimator__fit_intercept': True, 'estimator__intercept_scaling': 1, 'estimator__l1_ratio': None, 'estimator__max_iter': 100, 'estimator__multi_class': 'auto', 'estimator__n_jobs': None, 'estimator__penalty': 'l2', 'estimator__random_state': None, 'estimator__solver': 'lbfgs', 'estimator__tol': 0.0001, 'estimator__verbose': 0, 'estimator__warm_start': False, 'estimator': LogisticRegression(), 'n_jobs': None}\n"
     ]
    }
   ],
   "source": [
    "from sklearn.multiclass import OneVsRestClassifier\n",
    "from sklearn.linear_model import LogisticRegression\n",
    "from sklearn.metrics import accuracy_score, classification_report\n",
    "   \n",
    "# Creating the SVM model\n",
    "model = OneVsRestClassifier(LogisticRegression())\n",
    "   \n",
    "# Fitting the model with training data\n",
    "model.fit(X_train, y_train)\n",
    "   \n",
    "# Making a prediction on the test set\n",
    "prediction = model.predict(X_test)\n",
    "   \n",
    "# Evaluating the model\n",
    "print(f\"Test Set Accuracy : {accuracy_score(y_test, prediction)} %\\n\\n\")\n",
    "print(f\"Classification Report : \\n\\n{classification_report(y_test, prediction)}\")\n",
    "print(model.get_params())"
   ]
  },
  {
   "cell_type": "code",
   "execution_count": 19,
   "metadata": {},
   "outputs": [
    {
     "name": "stdout",
     "output_type": "stream",
     "text": [
      "Test Set Accuracy : 0.8939580764488286 \n",
      "\n",
      "\n",
      "Classification Report : \n",
      "              precision    recall  f1-score   support\n",
      "\n",
      "         0.0       0.89      1.00      0.94      7251\n",
      "         1.0       0.00      0.00      0.00       859\n",
      "\n",
      "    accuracy                           0.89      8110\n",
      "   macro avg       0.45      0.50      0.47      8110\n",
      "weighted avg       0.80      0.89      0.84      8110\n",
      "\n",
      "{'estimator__alpha': 0.0001, 'estimator__class_weight': None, 'estimator__early_stopping': False, 'estimator__eta0': 1.0, 'estimator__fit_intercept': True, 'estimator__max_iter': 10, 'estimator__n_iter_no_change': 5, 'estimator__n_jobs': None, 'estimator__penalty': None, 'estimator__random_state': 0, 'estimator__shuffle': True, 'estimator__tol': 0.001, 'estimator__validation_fraction': 0.1, 'estimator__verbose': 0, 'estimator__warm_start': False, 'estimator': Perceptron(max_iter=10), 'n_jobs': None}\n"
     ]
    },
    {
     "name": "stderr",
     "output_type": "stream",
     "text": [
      "/opt/anaconda3/lib/python3.8/site-packages/sklearn/linear_model/_stochastic_gradient.py:570: ConvergenceWarning: Maximum number of iteration reached before convergence. Consider increasing max_iter to improve the fit.\n",
      "  warnings.warn(\"Maximum number of iteration reached before \"\n"
     ]
    }
   ],
   "source": [
    "from sklearn.multiclass import OneVsRestClassifier\n",
    "from sklearn import linear_model  # Using sklearn Perceptron classifier\n",
    "from sklearn.metrics import accuracy_score, classification_report\n",
    "   \n",
    "# Creating the SVM model\n",
    "model = OneVsRestClassifier(linear_model.Perceptron(max_iter = 10))\n",
    "   \n",
    "# Fitting the model with training data\n",
    "model.fit(X_train, y_train)\n",
    "   \n",
    "# Making a prediction on the test set\n",
    "prediction = model.predict(X_test)\n",
    "   \n",
    "# Evaluating the model\n",
    "print(f\"Test Set Accuracy : {accuracy_score(y_test, prediction)} \\n\\n\")\n",
    "print(f\"Classification Report : \\n{classification_report(y_test, prediction)}\")\n",
    "print(model.get_params())"
   ]
  },
  {
   "cell_type": "code",
   "execution_count": 16,
   "metadata": {},
   "outputs": [
    {
     "name": "stdout",
     "output_type": "stream",
     "text": [
      "Test Set Accuracy : 0.8940813810110975 %\n",
      "\n",
      "\n",
      "Classification Report : \n",
      "\n",
      "              precision    recall  f1-score   support\n",
      "\n",
      "         0.0       0.89      1.00      0.94      7251\n",
      "         1.0       0.00      0.00      0.00       859\n",
      "\n",
      "    accuracy                           0.89      8110\n",
      "   macro avg       0.45      0.50      0.47      8110\n",
      "weighted avg       0.80      0.89      0.84      8110\n",
      "\n",
      "Parameters : \n",
      "{'estimator__C': 1.0, 'estimator__break_ties': False, 'estimator__cache_size': 200, 'estimator__class_weight': None, 'estimator__coef0': 0.0, 'estimator__decision_function_shape': 'ovr', 'estimator__degree': 3, 'estimator__gamma': 'scale', 'estimator__kernel': 'rbf', 'estimator__max_iter': -1, 'estimator__probability': False, 'estimator__random_state': None, 'estimator__shrinking': True, 'estimator__tol': 0.001, 'estimator__verbose': False, 'estimator': SVC(), 'n_jobs': None}\n"
     ]
    },
    {
     "name": "stderr",
     "output_type": "stream",
     "text": [
      "/opt/anaconda3/lib/python3.8/site-packages/sklearn/metrics/_classification.py:1221: UndefinedMetricWarning: Precision and F-score are ill-defined and being set to 0.0 in labels with no predicted samples. Use `zero_division` parameter to control this behavior.\n",
      "  _warn_prf(average, modifier, msg_start, len(result))\n"
     ]
    }
   ],
   "source": [
    "from sklearn.multiclass import OneVsOneClassifier\n",
    "from sklearn.svm import SVC\n",
    "from sklearn.metrics import accuracy_score, classification_report\n",
    "   \n",
    "# Creating the SVM model\n",
    "model = OneVsOneClassifier(SVC())\n",
    "   \n",
    "# Fitting the model with training data\n",
    "model.fit(X_train, y_train)\n",
    "   \n",
    "# Making a prediction on the test set\n",
    "prediction = model.predict(X_test)\n",
    "   \n",
    "# Evaluating the model\n",
    "print(f\"Test Set Accuracy : {accuracy_score(y_test, prediction)} %\\n\\n\")\n",
    "print(f\"Classification Report : \\n\\n{classification_report(y_test, prediction)}\")\n",
    "print(f\"Parameters : \\n{model.get_params()}\")"
   ]
  },
  {
   "cell_type": "code",
   "execution_count": null,
   "metadata": {},
   "outputs": [],
   "source": []
  }
 ],
 "metadata": {
  "kernelspec": {
   "display_name": "Python 3",
   "language": "python",
   "name": "python3"
  },
  "language_info": {
   "codemirror_mode": {
    "name": "ipython",
    "version": 3
   },
   "file_extension": ".py",
   "mimetype": "text/x-python",
   "name": "python",
   "nbconvert_exporter": "python",
   "pygments_lexer": "ipython3",
   "version": "3.8.5"
  }
 },
 "nbformat": 4,
 "nbformat_minor": 5
}
