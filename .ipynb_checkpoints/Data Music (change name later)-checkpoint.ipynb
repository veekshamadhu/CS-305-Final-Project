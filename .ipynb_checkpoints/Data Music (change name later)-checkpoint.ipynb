{
 "cells": [
  {
   "cell_type": "code",
   "execution_count": 10,
   "metadata": {},
   "outputs": [
    {
     "name": "stdout",
     "output_type": "stream",
     "text": [
      "['29.0', '0.00857', '0.643', '234874.0', '0.966', '0.00331', 10, '0.255', '-3.902', 0, '0.0442', '131.982', '0.912', 1]\n"
     ]
    },
    {
     "data": {
      "text/plain": [
       "(40549, 14)"
      ]
     },
     "execution_count": 10,
     "metadata": {},
     "output_type": "execute_result"
    }
   ],
   "source": [
    "import numpy as np\n",
    "from sklearn.model_selection import train_test_split\n",
    "from sklearn import preprocessing\n",
    "np.random.seed(42)\n",
    "import numpy as np\n",
    "from sklearn.feature_extraction.text import TfidfVectorizer\n",
    "\n",
    "\n",
    "\n",
    "from csv import reader\n",
    "\n",
    "\n",
    "with open('cs305fp_music_genre.csv', 'r') as read_obj:\n",
    "    csv_reader = reader(read_obj)\n",
    "    count = 0\n",
    "    data = []\n",
    "    titles = []\n",
    "    artists = []\n",
    "    instance_id = []\n",
    "    genres = []\n",
    "    musicKeys = ['C','C#','D','D#','E','F','F#','G','G#','A','A#','B']\n",
    "    \n",
    "    for row in csv_reader:\n",
    "        if count == 0:\n",
    "            columns = row\n",
    "        else:\n",
    "            instance_id.append(row[0])\n",
    "            artists.append(row[1])\n",
    "            titles.append(row[2])\n",
    "            \n",
    "            #music key (9 in list)\n",
    "            if row[9] in musicKeys:\n",
    "                row[9] = musicKeys.index(row[9])\n",
    "            \n",
    "            #mode (12 in list)\n",
    "            if row[12] == 'Major':\n",
    "                row[12] = 1\n",
    "            elif row[12] == 'Minor':\n",
    "                row[12] = 0\n",
    "            \n",
    "            \n",
    "            #tempo (14 in list) \n",
    "            if row[14] == \"?\":\n",
    "                row[14] = ''\n",
    "            \n",
    "            #music_genre (17 in list)\n",
    "            if row[17] in genres and row[17] != 0:\n",
    "                row[17] = genres.index(row[17])\n",
    "            else:\n",
    "                genres.append(row[17])\n",
    "                row[17] = genres.index(row[17])\n",
    "            \n",
    "            #make sure to not include list items 0-2 and item 15 in list\n",
    "            new = row[3:15]+row[16:]\n",
    "            if row[17] != 0 and row[6] != '-1.0':\n",
    "                data.append(new)\n",
    "            \n",
    "            \n",
    "            \n",
    "        count = count + 1\n",
    "print(data[1])\n",
    "for count,row in enumerate(data):\n",
    "    for count2,c in enumerate(row):\n",
    "        if data[count][count2] != '':\n",
    "            data[count][count2] = float(data[count][count2])\n",
    "        else:\n",
    "            data[count][count2] = 0\n",
    "data = np.array(data)\n",
    "        \n",
    "np.shape(data)\n",
    "            "
   ]
  },
  {
   "cell_type": "code",
   "execution_count": 11,
   "metadata": {},
   "outputs": [],
   "source": [
    "import pandas as pd\n",
    "\n",
    "df = pd.DataFrame(data)"
   ]
  },
  {
   "cell_type": "code",
   "execution_count": 18,
   "metadata": {},
   "outputs": [
    {
     "name": "stdout",
     "output_type": "stream",
     "text": [
      "0     0\n",
      "1     0\n",
      "2     0\n",
      "3     0\n",
      "4     0\n",
      "5     0\n",
      "6     0\n",
      "7     0\n",
      "8     0\n",
      "9     0\n",
      "10    0\n",
      "11    0\n",
      "12    0\n",
      "13    0\n",
      "dtype: int64\n"
     ]
    }
   ],
   "source": [
    "dur = df.iloc[:,6]\n",
    "for i in range(len(dur)):\n",
    "    if dur[i] < 0.0:\n",
    "        dur[i] = 0.00\n",
    "        \n",
    "#finding the average of the duration of the songs (in milliseconds)\n",
    "avg = np.sum(dur) / len(dur)\n",
    "avg\n",
    "\n",
    "#replacing all 0.0 values\n",
    "for i in range(len(dur)):\n",
    "    if dur[i] == 0.0:\n",
    "        dur[i] = avg\n",
    "        \n",
    "df.iloc[:,6] = dur\n"
   ]
  },
  {
   "cell_type": "code",
   "execution_count": 16,
   "metadata": {},
   "outputs": [
    {
     "name": "stdout",
     "output_type": "stream",
     "text": [
      "Perceptron\n"
     ]
    },
    {
     "name": "stderr",
     "output_type": "stream",
     "text": [
      "/opt/anaconda3/lib/python3.8/site-packages/sklearn/linear_model/_stochastic_gradient.py:570: ConvergenceWarning: Maximum number of iteration reached before convergence. Consider increasing max_iter to improve the fit.\n",
      "  warnings.warn(\"Maximum number of iteration reached before \"\n"
     ]
    },
    {
     "name": "stdout",
     "output_type": "stream",
     "text": [
      "0.3908754623921085\n",
      "Forest\n",
      "0.566707768187423\n",
      "kNN\n",
      "0.49297163995067816\n",
      "Logistic\n"
     ]
    },
    {
     "name": "stderr",
     "output_type": "stream",
     "text": [
      "/opt/anaconda3/lib/python3.8/site-packages/sklearn/linear_model/_logistic.py:762: ConvergenceWarning: lbfgs failed to converge (status=1):\n",
      "STOP: TOTAL NO. of ITERATIONS REACHED LIMIT.\n",
      "\n",
      "Increase the number of iterations (max_iter) or scale the data as shown in:\n",
      "    https://scikit-learn.org/stable/modules/preprocessing.html\n",
      "Please also refer to the documentation for alternative solver options:\n",
      "    https://scikit-learn.org/stable/modules/linear_model.html#logistic-regression\n",
      "  n_iter_i = _check_optimize_result(\n"
     ]
    },
    {
     "name": "stdout",
     "output_type": "stream",
     "text": [
      "0.5436498150431566\n",
      "SVM\n",
      "0.5916152897657213\n"
     ]
    }
   ],
   "source": [
    "from sklearn.model_selection import train_test_split\n",
    "import numpy as np\n",
    "from sklearn import linear_model  # Using sklearn Perceptron classifier\n",
    "from sklearn import tree  # Using Tree classifier\n",
    "from sklearn import neighbors  # Using nearest neighbors classifier\n",
    "from sklearn.linear_model import LogisticRegression\n",
    "from sklearn.metrics import classification_report\n",
    "import sklearn.svm as svm\n",
    "from sklearn.preprocessing import StandardScaler\n",
    "\n",
    "from sklearn import ensemble\n",
    "\n",
    "\n",
    "\n",
    "learners = {'Perceptron': linear_model.Perceptron(max_iter=10),\n",
    "            'Forest': ensemble.RandomForestClassifier(),\n",
    "            'kNN': neighbors.KNeighborsClassifier(),\n",
    "            'Logistic': LogisticRegression(),\n",
    "            'SVM': svm.SVC()\n",
    "           }\n",
    "\n",
    "    \n",
    "DATA = np.array(df)\n",
    "X = DATA[:,:-1]\n",
    "y = DATA[:,-1]\n",
    "X_train, X_test, y_train, y_test = train_test_split(X, y, test_size=0.20)\n",
    "    \n",
    "scaler = StandardScaler()\n",
    "scaler.fit(X_train)\n",
    "X_train = scaler.transform(X_train)\n",
    "X_test = scaler.transform(X_test)\n",
    "for classM in learners:\n",
    "    print(classM)\n",
    "    scaler = StandardScaler()\n",
    "    scaler.fit(X_train)\n",
    "    X_train = scaler.transform(X_train)\n",
    "    X_test = scaler.transform(X_test)\n",
    "    learners[classM].fit(X_train,y_train)\n",
    "    print(learners[classM].score(X_test,y_test))\n",
    "\n",
    "\n"
   ]
  },
  {
   "cell_type": "code",
   "execution_count": null,
   "metadata": {},
   "outputs": [],
   "source": []
  }
 ],
 "metadata": {
  "kernelspec": {
   "display_name": "Python 3",
   "language": "python",
   "name": "python3"
  },
  "language_info": {
   "codemirror_mode": {
    "name": "ipython",
    "version": 3
   },
   "file_extension": ".py",
   "mimetype": "text/x-python",
   "name": "python",
   "nbconvert_exporter": "python",
   "pygments_lexer": "ipython3",
   "version": "3.8.5"
  }
 },
 "nbformat": 4,
 "nbformat_minor": 5
}
